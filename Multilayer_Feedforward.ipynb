{
  "nbformat": 4,
  "nbformat_minor": 0,
  "metadata": {
    "colab": {
      "provenance": []
    },
    "kernelspec": {
      "name": "python3",
      "display_name": "Python 3"
    },
    "language_info": {
      "name": "python"
    }
  },
  "cells": [
    {
      "cell_type": "code",
      "execution_count": null,
      "metadata": {
        "colab": {
          "base_uri": "https://localhost:8080/"
        },
        "id": "FeTdIptvnsMA",
        "outputId": "0621c958-582f-4e56-b9a1-d0ab30b9b306"
      },
      "outputs": [
        {
          "output_type": "stream",
          "name": "stdout",
          "text": [
            "Looking in indexes: https://pypi.org/simple, https://us-python.pkg.dev/colab-wheels/public/simple/\n",
            "Looking in links: https://download.pytorch.org/whl/torch_stable.html\n",
            "Collecting torch==1.9.0+cu102\n",
            "  Downloading https://download.pytorch.org/whl/cu102/torch-1.9.0%2Bcu102-cp38-cp38-linux_x86_64.whl (831.4 MB)\n",
            "\u001b[K     |████████████████████████████████| 831.4 MB 13 kB/s \n",
            "\u001b[?25hCollecting torchvision==0.10.0+cu102\n",
            "  Downloading https://download.pytorch.org/whl/cu102/torchvision-0.10.0%2Bcu102-cp38-cp38-linux_x86_64.whl (22.1 MB)\n",
            "\u001b[K     |████████████████████████████████| 22.1 MB 1.3 MB/s \n",
            "\u001b[?25hCollecting torchaudio===0.9.0\n",
            "  Downloading torchaudio-0.9.0-cp38-cp38-manylinux1_x86_64.whl (1.9 MB)\n",
            "\u001b[K     |████████████████████████████████| 1.9 MB 5.1 MB/s \n",
            "\u001b[?25hRequirement already satisfied: typing-extensions in /usr/local/lib/python3.8/dist-packages (from torch==1.9.0+cu102) (4.4.0)\n",
            "Requirement already satisfied: pillow>=5.3.0 in /usr/local/lib/python3.8/dist-packages (from torchvision==0.10.0+cu102) (7.1.2)\n",
            "Requirement already satisfied: numpy in /usr/local/lib/python3.8/dist-packages (from torchvision==0.10.0+cu102) (1.21.6)\n",
            "Installing collected packages: torch, torchvision, torchaudio\n",
            "  Attempting uninstall: torch\n",
            "    Found existing installation: torch 1.13.0+cu116\n",
            "    Uninstalling torch-1.13.0+cu116:\n",
            "      Successfully uninstalled torch-1.13.0+cu116\n",
            "  Attempting uninstall: torchvision\n",
            "    Found existing installation: torchvision 0.14.0+cu116\n",
            "    Uninstalling torchvision-0.14.0+cu116:\n",
            "      Successfully uninstalled torchvision-0.14.0+cu116\n",
            "  Attempting uninstall: torchaudio\n",
            "    Found existing installation: torchaudio 0.13.0+cu116\n",
            "    Uninstalling torchaudio-0.13.0+cu116:\n",
            "      Successfully uninstalled torchaudio-0.13.0+cu116\n",
            "\u001b[31mERROR: pip's dependency resolver does not currently take into account all the packages that are installed. This behaviour is the source of the following dependency conflicts.\n",
            "torchtext 0.14.0 requires torch==1.13.0, but you have torch 1.9.0+cu102 which is incompatible.\u001b[0m\n",
            "Successfully installed torch-1.9.0+cu102 torchaudio-0.9.0 torchvision-0.10.0+cu102\n"
          ]
        }
      ],
      "source": [
        "!pip3 install torch==1.9.0+cu102 torchvision==0.10.0+cu102 torchaudio===0.9.0 -f https://download.pytorch.org/whl/torch_stable.html"
      ]
    },
    {
      "cell_type": "code",
      "source": [
        "import torch\n",
        "import torch.nn as nn\n",
        "import torchvision\n",
        "import torchvision.transforms as transforms\n",
        "import matplotlib.pyplot as plt"
      ],
      "metadata": {
        "id": "s_l5Mq5InxQH"
      },
      "execution_count": null,
      "outputs": []
    },
    {
      "cell_type": "code",
      "source": [
        "device = torch.device('cuda' if torch.cuda.is_available() else 'cpu')"
      ],
      "metadata": {
        "id": "y8zVCdhqpWvS"
      },
      "execution_count": null,
      "outputs": []
    },
    {
      "cell_type": "code",
      "source": [
        "input_size = 784 # 28x28\n",
        "hidden_size = 500\n",
        "num_classes = 10\n",
        "num_epochs = 10\n",
        "batch_size = 100\n",
        "learning_rate = 0.001"
      ],
      "metadata": {
        "id": "Z07FQjBZn9dh"
      },
      "execution_count": null,
      "outputs": []
    },
    {
      "cell_type": "code",
      "source": [
        "# Import MNIST dataset\n",
        "train_dataset = torchvision.datasets.MNIST(root='./data',\n",
        "                                            train=True,\n",
        "                                       transform=transforms.ToTensor(),\n",
        "                                           download=True)\n",
        "test_dataset = torchvision.datasets.MNIST(root='./data',\n",
        "                                           train=False,\n",
        "                                           transform=transforms.ToTensor())"
      ],
      "metadata": {
        "colab": {
          "base_uri": "https://localhost:8080/"
        },
        "id": "upz-b828n9gQ",
        "outputId": "53ded051-d93f-4dda-c54d-ccdcdbff8d44"
      },
      "execution_count": null,
      "outputs": [
        {
          "output_type": "stream",
          "name": "stderr",
          "text": [
            "/usr/local/lib/python3.8/dist-packages/torchvision/datasets/mnist.py:498: UserWarning: The given NumPy array is not writeable, and PyTorch does not support non-writeable tensors. This means you can write to the underlying (supposedly non-writeable) NumPy array using the tensor. You may want to copy the array to protect its data or make it writeable before converting it to a tensor. This type of warning will be suppressed for the rest of this program. (Triggered internally at  /pytorch/torch/csrc/utils/tensor_numpy.cpp:180.)\n",
            "  return torch.from_numpy(parsed.astype(m[2], copy=False)).view(*s)\n"
          ]
        }
      ]
    },
    {
      "cell_type": "code",
      "source": [
        "# Data loader\n",
        "train_loader = torch.utils.data.DataLoader(dataset=train_dataset,\n",
        "                                            batch_size=batch_size,\n",
        "                                            shuffle=True)\n",
        "test_loader = torch.utils.data.DataLoader(dataset=test_dataset,\n",
        "                                           batch_size=batch_size,\n",
        "                                           shuffle=False)"
      ],
      "metadata": {
        "id": "exCMpULJn9i4"
      },
      "execution_count": null,
      "outputs": []
    },
    {
      "cell_type": "code",
      "source": [
        "examples = iter(test_loader)\n",
        "example_data, example_targets = examples.next()\n",
        "for i in range(6):\n",
        "  plt.subplot(2,3,i+1)\n",
        "  plt.imshow(example_data[i][0], cmap='gray')\n",
        "plt.show()"
      ],
      "metadata": {
        "colab": {
          "base_uri": "https://localhost:8080/",
          "height": 267
        },
        "id": "KNn0TBRwn9lX",
        "outputId": "b81cff90-ea29-4a99-ca58-0f17941aa2d5"
      },
      "execution_count": null,
      "outputs": [
        {
          "output_type": "display_data",
          "data": {
            "text/plain": [
              "<Figure size 432x288 with 6 Axes>"
            ],
            "image/png": "[encoded data removed]"
          },
          "metadata": {
            "needs_background": "light"
          }
        }
      ]
    },
    {
      "cell_type": "code",
      "source": [
        "# 2 layer multi layer feedforward network\n",
        "class NeuralNet(nn.Module):\n",
        "    def __init__(self, input_size, hidden_size, num_classes):\n",
        "        super(NeuralNet, self).__init__()\n",
        "        self.input_size = input_size\n",
        "        self.l1 = nn.Linear(input_size, hidden_size)\n",
        "        self.relu = nn.ReLU()\n",
        "        self.l2 = nn.Linear(hidden_size, num_classes)\n",
        "\n",
        "    def forward(self, x):\n",
        "        out = self.l1(x)\n",
        "        out = self.relu(out)\n",
        "        out = self.l2(out)\n",
        "        # no activation and no softmax at the end\n",
        "        return out"
      ],
      "metadata": {
        "id": "P6BKAg5ipezr"
      },
      "execution_count": null,
      "outputs": []
    },
    {
      "cell_type": "code",
      "source": [
        "model = NeuralNet(input_size, hidden_size, num_classes).to(device)"
      ],
      "metadata": {
        "id": "54gWjR3IpD8m"
      },
      "execution_count": null,
      "outputs": []
    },
    {
      "cell_type": "code",
      "source": [
        "# Loss and optimizer\n",
        "criterion = nn.CrossEntropyLoss()\n",
        "optimizer = torch.optim.Adam(model.parameters(), lr=learning_rate)"
      ],
      "metadata": {
        "id": "8jDhkzEkpJKq"
      },
      "execution_count": null,
      "outputs": []
    },
    {
      "cell_type": "code",
      "source": [
        "# Train the model\n",
        "n_total_steps = len(train_loader)\n",
        "for epoch in range(num_epochs):\n",
        "    for i, (images, labels) in enumerate(train_loader):\n",
        "        # origin shape: [100, 1, 28, 28]\n",
        "        # resized: [100, 784]\n",
        "        images = images.reshape(-1, 28*28).to(device)\n",
        "        labels = labels.to(device)\n",
        "\n",
        "        # Forward pass\n",
        "        outputs = model(images)\n",
        "        loss = criterion(outputs, labels)\n",
        "\n",
        "        # Backward and optimize\n",
        "        optimizer.zero_grad()\n",
        "        loss.backward()\n",
        "        optimizer.step()\n",
        "\n",
        "        if (i+1) % 100 == 0:\n",
        "            print (f'Epoch [{epoch+1}/{num_epochs}], Step [{i+1}/{n_total_steps}], Loss: {loss.item():.4f}')"
      ],
      "metadata": {
        "colab": {
          "base_uri": "https://localhost:8080/"
        },
        "id": "df3o-SE5pkom",
        "outputId": "12cf04f2-dcd9-41fb-d4b1-6364a1363efb"
      },
      "execution_count": null,
      "outputs": [
        {
          "output_type": "stream",
          "name": "stdout",
          "text": [
            "Epoch [1/10], Step [100/600], Loss: 0.4666\n",
            "Epoch [1/10], Step [200/600], Loss: 0.3426\n",
            "Epoch [1/10], Step [300/600], Loss: 0.2437\n",
            "Epoch [1/10], Step [400/600], Loss: 0.1858\n",
            "Epoch [1/10], Step [500/600], Loss: 0.2852\n",
            "Epoch [1/10], Step [600/600], Loss: 0.1561\n",
            "Epoch [2/10], Step [100/600], Loss: 0.1643\n",
            "Epoch [2/10], Step [200/600], Loss: 0.1477\n",
            "Epoch [2/10], Step [300/600], Loss: 0.0710\n",
            "Epoch [2/10], Step [400/600], Loss: 0.1168\n",
            "Epoch [2/10], Step [500/600], Loss: 0.1137\n",
            "Epoch [2/10], Step [600/600], Loss: 0.2105\n",
            "Epoch [3/10], Step [100/600], Loss: 0.0735\n",
            "Epoch [3/10], Step [200/600], Loss: 0.0378\n",
            "Epoch [3/10], Step [300/600], Loss: 0.0834\n",
            "Epoch [3/10], Step [400/600], Loss: 0.0494\n",
            "Epoch [3/10], Step [500/600], Loss: 0.0377\n",
            "Epoch [3/10], Step [600/600], Loss: 0.0487\n",
            "Epoch [4/10], Step [100/600], Loss: 0.0385\n",
            "Epoch [4/10], Step [200/600], Loss: 0.0250\n",
            "Epoch [4/10], Step [300/600], Loss: 0.0917\n",
            "Epoch [4/10], Step [400/600], Loss: 0.0472\n",
            "Epoch [4/10], Step [500/600], Loss: 0.0146\n",
            "Epoch [4/10], Step [600/600], Loss: 0.0761\n",
            "Epoch [5/10], Step [100/600], Loss: 0.1236\n",
            "Epoch [5/10], Step [200/600], Loss: 0.0251\n",
            "Epoch [5/10], Step [300/600], Loss: 0.0308\n",
            "Epoch [5/10], Step [400/600], Loss: 0.0120\n",
            "Epoch [5/10], Step [500/600], Loss: 0.0427\n",
            "Epoch [5/10], Step [600/600], Loss: 0.0358\n",
            "Epoch [6/10], Step [100/600], Loss: 0.0309\n",
            "Epoch [6/10], Step [200/600], Loss: 0.0610\n",
            "Epoch [6/10], Step [300/600], Loss: 0.0440\n",
            "Epoch [6/10], Step [400/600], Loss: 0.0129\n",
            "Epoch [6/10], Step [500/600], Loss: 0.0404\n",
            "Epoch [6/10], Step [600/600], Loss: 0.0384\n",
            "Epoch [7/10], Step [100/600], Loss: 0.0089\n",
            "Epoch [7/10], Step [200/600], Loss: 0.0263\n",
            "Epoch [7/10], Step [300/600], Loss: 0.0246\n",
            "Epoch [7/10], Step [400/600], Loss: 0.0636\n",
            "Epoch [7/10], Step [500/600], Loss: 0.0374\n",
            "Epoch [7/10], Step [600/600], Loss: 0.0272\n",
            "Epoch [8/10], Step [100/600], Loss: 0.0139\n",
            "Epoch [8/10], Step [200/600], Loss: 0.0028\n",
            "Epoch [8/10], Step [300/600], Loss: 0.0121\n",
            "Epoch [8/10], Step [400/600], Loss: 0.0272\n",
            "Epoch [8/10], Step [500/600], Loss: 0.0265\n",
            "Epoch [8/10], Step [600/600], Loss: 0.0048\n",
            "Epoch [9/10], Step [100/600], Loss: 0.0136\n",
            "Epoch [9/10], Step [200/600], Loss: 0.0108\n",
            "Epoch [9/10], Step [300/600], Loss: 0.0013\n",
            "Epoch [9/10], Step [400/600], Loss: 0.0018\n",
            "Epoch [9/10], Step [500/600], Loss: 0.0026\n",
            "Epoch [9/10], Step [600/600], Loss: 0.0386\n",
            "Epoch [10/10], Step [100/600], Loss: 0.0177\n",
            "Epoch [10/10], Step [200/600], Loss: 0.0097\n",
            "Epoch [10/10], Step [300/600], Loss: 0.0052\n",
            "Epoch [10/10], Step [400/600], Loss: 0.0146\n",
            "Epoch [10/10], Step [500/600], Loss: 0.0034\n",
            "Epoch [10/10], Step [600/600], Loss: 0.0039\n"
          ]
        }
      ]
    },
    {
      "cell_type": "code",
      "source": [
        "# Test the model\n",
        "# In test phase, we don't need to compute gradients (for memory efficiency)\n",
        "with torch.no_grad():\n",
        "    n_correct = 0\n",
        "    n_samples = 0\n",
        "    for images, labels in test_loader:\n",
        "        images = images.reshape(-1, 28*28).to(device)\n",
        "        labels = labels.to(device)\n",
        "        outputs = model(images)\n",
        "        # max returns (value ,index)\n",
        "        _, predicted = torch.max(outputs.data, 1)\n",
        "        n_samples += labels.size(0)\n",
        "        n_correct += (predicted == labels).sum().item()\n",
        "\n",
        "    acc = 100.0 * n_correct / n_samples\n",
        "    print(f'Accuracy of the network on the 10000 test images: {acc} %')"
      ],
      "metadata": {
        "colab": {
          "base_uri": "https://localhost:8080/"
        },
        "id": "wLMkH6_epkrd",
        "outputId": "99659b24-31e0-4b62-cb24-a620d91c8e0f"
      },
      "execution_count": null,
      "outputs": [
        {
          "output_type": "stream",
          "name": "stdout",
          "text": [
            "Accuracy of the network on the 10000 test images: 98.05 %\n"
          ]
        }
      ]
    },
    {
      "cell_type": "code",
      "source": [],
      "metadata": {
        "id": "6hFaykaupktu"
      },
      "execution_count": null,
      "outputs": []
    },
    {
      "cell_type": "code",
      "source": [],
      "metadata": {
        "id": "upiBFbnnpkwW"
      },
      "execution_count": null,
      "outputs": []
    }
  ]
}